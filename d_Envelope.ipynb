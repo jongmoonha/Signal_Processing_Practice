{
 "cells": [
  {
   "cell_type": "code",
   "execution_count": null,
   "metadata": {
    "id": "V89_jLu20QIP"
   },
   "outputs": [],
   "source": [
    "import os, sys, subprocess\n",
    "\n",
    "REPO = \"https://github.com/jongmoonha/Signal_Processing_Practice.git\"\n",
    "DIR  = \"Signal_Processing_Practice\"\n",
    "\n",
    "try:\n",
    "    import google.colab  # Colab 전용 모듈\n",
    "    if not os.path.isdir(DIR):\n",
    "        subprocess.run([\"git\",\"clone\",REPO], check=True)\n",
    "    print('We are in Google Colab environment.')\n",
    "    os.chdir('/content/'+DIR)\n",
    "    print('Current working directory:', os.getcwd())\n",
    "\n",
    "except ImportError:\n",
    "    print('We are in a local environment, not Google Colab.')\n",
    "    pass"
   ]
  },
  {
   "cell_type": "code",
   "execution_count": null,
   "metadata": {
    "ExecuteTime": {
     "end_time": "2022-03-28T13:01:26.140181Z",
     "start_time": "2022-03-28T13:01:26.122230Z"
    },
    "id": "KKT3hKh60PmB"
   },
   "outputs": [],
   "source": [
    "import numpy as np\n",
    "import matplotlib.pyplot as plt\n",
    "import pandas as pd\n",
    "from scipy.signal import hilbert\n",
    "import utils\n",
    "plt.rc('font', size=15)"
   ]
  },
  {
   "cell_type": "markdown",
   "metadata": {},
   "source": [
    "# 엔진소리에 대한 Envelope 수행"
   ]
  },
  {
   "cell_type": "code",
   "execution_count": null,
   "metadata": {
    "id": "_tUTDC2d0PmD"
   },
   "outputs": [],
   "source": [
    "import numpy as np\n",
    "import matplotlib.pyplot as plt\n",
    "from scipy.io import wavfile\n",
    "from scipy.signal import spectrogram\n",
    "import librosa\n",
    "\n",
    "file_path1 = './data/autorash.mp3'\n",
    "y1, sr1 = librosa.load(file_path1, sr=None)\n",
    "\n",
    "file_path2 = './data/knocking.mp3'\n",
    "y2, sr2 = librosa.load(file_path2, sr=None)\n",
    "\n",
    "\n",
    "a = y1 # autorash\n",
    "k = y2 # knocking\n",
    "\n",
    "print(np.shape(a))\n",
    "print(np.shape(k))\n",
    "print(sr1)\n",
    "print(sr2)"
   ]
  },
  {
   "cell_type": "code",
   "execution_count": null,
   "metadata": {
    "id": "00Z0DI-40PmE"
   },
   "outputs": [],
   "source": [
    "slice_length = len(y2) # 두 음성 신호의 길이를 맞춰주기 위한 코드\n",
    "\n",
    "# Autorash 데이터\n",
    "\n",
    "v_a = a[:slice_length]\n",
    "T_a = len(v_a) / sr1\n",
    "t_a = np.arange(1/sr1, T_a + 1/sr1, 1/sr1)\n",
    "\n",
    "# Knocking 데이터\n",
    "v_k = k\n",
    "T_k = len(v_k) / sr2\n",
    "t_k = np.arange(1/sr2, T_k + 1/sr2, 1/sr2)"
   ]
  },
  {
   "cell_type": "markdown",
   "metadata": {
    "id": "wPxmoa4G0PmF"
   },
   "source": [
    "## Envelope of Autorash"
   ]
  },
  {
   "cell_type": "markdown",
   "metadata": {},
   "source": [
    "v_a 에 대해 포락선 (envelope) 분석 수행하고 suplot에 결과 출력 \n",
    "\n",
    "(상단: 원신호 (파란색)와 포락선 결과 (빨간색) 출력, 하단: 같은 출력에 x축만 0.6~0.72로 조정)"
   ]
  },
  {
   "cell_type": "code",
   "execution_count": null,
   "metadata": {
    "id": "9MZGrEBf0PmF"
   },
   "outputs": [],
   "source": [
    "v_a_hilbert=hilbert(v_a,axis=0)\n",
    "v_a_envelope = abs(v_a_hilbert)"
   ]
  },
  {
   "cell_type": "code",
   "execution_count": null,
   "metadata": {
    "id": "f15whkns0PmF"
   },
   "outputs": [],
   "source": [
    "plt.figure(figsize=(8,8))\n",
    "\n",
    "plt.subplot(2,1,1)\n",
    "plt.plot(t_a,v_a,'b')\n",
    "plt.plot(t_a,v_a_envelope,'r')\n",
    "plt.xlabel('t')\n",
    "plt.ylabel('x(t)')\n",
    "\n",
    "plt.subplot(2,1,2)\n",
    "plt.plot(t_a,v_a,'b')\n",
    "plt.plot(t_a,v_a_envelope,'r')\n",
    "plt.xlim([0.60, 0.72])\n",
    "plt.xlabel('t')\n",
    "plt.ylabel('x(t)')\n",
    "\n",
    "plt.subplots_adjust(hspace=0.35)"
   ]
  },
  {
   "cell_type": "markdown",
   "metadata": {},
   "source": [
    "### 주파수 분석 결과 비교 (원신호 vs 포락선) (4,1) suplot (그림 사이즈 = 10,10)\n",
    "\n",
    "(1) 원신호 주파수분석 (0-5000Hz), (2) 원신호 주파수분석 (0-100Hz), (3) 포락선 주파수분석 (0-5000Hz), (4) 포락선 주파수분석 (0-100Hz)\n",
    "\n",
    "주파수분석시 utils.fft_simple(v, fs) function 사용하고, 신호 평균을 빼고 주파수분석 수행"
   ]
  },
  {
   "cell_type": "code",
   "execution_count": null,
   "metadata": {},
   "outputs": [],
   "source": []
  },
  {
   "cell_type": "code",
   "execution_count": null,
   "metadata": {
    "id": "qChC6lOU0PmF"
   },
   "outputs": [],
   "source": [
    "F_original,A_original=utils.fft_simple(v_a-np.mean(v_a),sr1)\n",
    "\n",
    "F_envelop,v_a_envelope=utils.fft_simple(v_a_envelope-np.mean(v_a_envelope),sr1)\n",
    "\n",
    "\n",
    "plt.figure(figsize=(10,10))\n",
    "\n",
    "plt.subplot(4,1,1)\n",
    "plt.plot(F_original,A_original)\n",
    "plt.xlabel('f')\n",
    "plt.ylabel('|X(f)')\n",
    "plt.title('Autorash single-sided FFT')\n",
    "plt.xlim([0,5000])\n",
    "\n",
    "plt.subplot(4,1,2)\n",
    "plt.plot(F_original,A_original)\n",
    "plt.xlabel('f')\n",
    "plt.ylabel('|X(f)')\n",
    "plt.title('Autorash single-sided FFT(Zoomed)')\n",
    "plt.xlim([0,100])\n",
    "\n",
    "\n",
    "plt.subplot(4,1,3)\n",
    "plt.plot(F_envelop,v_a_envelope)\n",
    "plt.xlabel('f')\n",
    "plt.ylabel('|X(f)')\n",
    "plt.title('Envelop of Autorash Single-sided FFT')\n",
    "plt.xlim([0,5000])\n",
    "\n",
    "\n",
    "plt.subplot(4,1,4)\n",
    "plt.plot(F_envelop,v_a_envelope)\n",
    "plt.xlabel('f')\n",
    "plt.ylabel('|X(f)')\n",
    "plt.title('Envelop of Autorash Single-sided FFT (Zoomed)')\n",
    "plt.xlim([0,100])\n",
    "plt.subplots_adjust(hspace=2)"
   ]
  },
  {
   "cell_type": "markdown",
   "metadata": {
    "id": "DRgCqE5K0PmF"
   },
   "source": [
    "## Envelope of Knocking"
   ]
  },
  {
   "cell_type": "code",
   "execution_count": null,
   "metadata": {},
   "outputs": [],
   "source": [
    "v_k_hilbert=hilbert(k,axis=0)\n",
    "v_k_envelope = abs(v_k_hilbert)"
   ]
  },
  {
   "cell_type": "code",
   "execution_count": null,
   "metadata": {
    "id": "MdM9_l-e0PmG"
   },
   "outputs": [],
   "source": [
    "plt.figure(figsize=(8,8))\n",
    "\n",
    "plt.subplot(2,1,1)\n",
    "plt.plot(t_k,v_k,'b')\n",
    "plt.plot(t_k,v_k_envelope,'r')\n",
    "plt.xlabel('t')\n",
    "plt.ylabel('x(t)')\n",
    "\n",
    "plt.subplot(2,1,1)\n",
    "plt.plot(t_k,v_k,'b')\n",
    "plt.plot(t_k,v_k_envelope,'r')\n",
    "plt.xlim([0.60, 0.72])\n",
    "plt.xlabel('t')\n",
    "plt.ylabel('x(t)')\n",
    "\n",
    "plt.subplots_adjust(hspace=0.35)"
   ]
  },
  {
   "cell_type": "code",
   "execution_count": null,
   "metadata": {
    "id": "o99T7gib0PmG"
   },
   "outputs": [],
   "source": [
    "F_original,A_original=utils.fft_simple(v_k-np.mean(v_k),sr2)\n",
    "\n",
    "F_envelop,v_a_envelope=utils.fft_simple(v_k_envelope-np.mean(v_k_envelope),sr2)\n",
    "\n",
    "\n",
    "plt.figure(figsize=(10,10))\n",
    "\n",
    "plt.subplot(4,1,1)\n",
    "plt.plot(F_original,A_original)\n",
    "plt.xlabel('f')\n",
    "plt.ylabel('|X(f)')\n",
    "plt.title('Autorash single-sided FFT')\n",
    "plt.xlim([0,5000])\n",
    "\n",
    "plt.subplot(4,1,2)\n",
    "plt.plot(F_original,A_original)\n",
    "plt.xlabel('f')\n",
    "plt.ylabel('|X(f)')\n",
    "plt.title('Autorash single-sided FFT(Zoomed)')\n",
    "plt.xlim([0,100])\n",
    "\n",
    "\n",
    "plt.subplot(4,1,3)\n",
    "plt.plot(F_envelop,v_a_envelope)\n",
    "plt.xlabel('f')\n",
    "plt.ylabel('|X(f)')\n",
    "plt.title('Envelop of Autorash Single-sided FFT')\n",
    "plt.xlim([0,5000])\n",
    "\n",
    "\n",
    "plt.subplot(4,1,4)\n",
    "plt.plot(F_envelop,v_a_envelope)\n",
    "plt.xlabel('f')\n",
    "plt.ylabel('|X(f)')\n",
    "plt.title('Envelop of Autorash Single-sided FFT (Zoomed)')\n",
    "plt.xlim([0,100])\n",
    "plt.subplots_adjust(hspace=2)"
   ]
  }
 ],
 "metadata": {
  "colab": {
   "provenance": []
  },
  "kernelspec": {
   "display_name": "base",
   "language": "python",
   "name": "python3"
  },
  "language_info": {
   "codemirror_mode": {
    "name": "ipython",
    "version": 3
   },
   "file_extension": ".py",
   "mimetype": "text/x-python",
   "name": "python",
   "nbconvert_exporter": "python",
   "pygments_lexer": "ipython3",
   "version": "3.12.7"
  },
  "toc": {
   "base_numbering": 1,
   "nav_menu": {},
   "number_sections": true,
   "sideBar": true,
   "skip_h1_title": false,
   "title_cell": "Table of Contents",
   "title_sidebar": "Contents",
   "toc_cell": false,
   "toc_position": {},
   "toc_section_display": true,
   "toc_window_display": false
  },
  "varInspector": {
   "cols": {
    "lenName": 16,
    "lenType": 16,
    "lenVar": 40
   },
   "kernels_config": {
    "python": {
     "delete_cmd_postfix": "",
     "delete_cmd_prefix": "del ",
     "library": "var_list.py",
     "varRefreshCmd": "print(var_dic_list())"
    },
    "r": {
     "delete_cmd_postfix": ") ",
     "delete_cmd_prefix": "rm(",
     "library": "var_list.r",
     "varRefreshCmd": "cat(var_dic_list()) "
    }
   },
   "types_to_exclude": [
    "module",
    "function",
    "builtin_function_or_method",
    "instance",
    "_Feature"
   ],
   "window_display": false
  }
 },
 "nbformat": 4,
 "nbformat_minor": 0
}
