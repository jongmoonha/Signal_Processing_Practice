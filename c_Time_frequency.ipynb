{
 "cells": [
  {
   "cell_type": "code",
   "execution_count": null,
   "metadata": {
    "id": "ndIyD6koy8YK"
   },
   "outputs": [],
   "source": [
    "import os, sys, subprocess\n",
    "\n",
    "REPO = \"https://github.com/jongmoonha/Signal_Processing_Practice.git\"\n",
    "DIR  = \"Signal_Processing_Practice\"\n",
    "\n",
    "try:\n",
    "    import google.colab  # Colab 전용 모듈\n",
    "    if not os.path.isdir(DIR):\n",
    "        subprocess.run([\"git\",\"clone\",REPO], check=True)\n",
    "    print('We are in Google Colab environment.')\n",
    "    os.chdir('/content/'+DIR)\n",
    "    print('Current working directory:', os.getcwd())\n",
    "\n",
    "except ImportError:\n",
    "    print('We are in a local environment, not Google Colab.')\n",
    "    pass"
   ]
  },
  {
   "cell_type": "markdown",
   "metadata": {
    "id": "3QTROBhVs7dv"
   },
   "source": [
    "# 엔진소리에 대한 FFT 수행"
   ]
  },
  {
   "cell_type": "code",
   "execution_count": null,
   "metadata": {
    "ExecuteTime": {
     "end_time": "2022-03-28T13:00:46.693075Z",
     "start_time": "2022-03-28T13:00:46.686093Z"
    },
    "id": "GIsP5Z30fCLy"
   },
   "outputs": [],
   "source": [
    "import numpy as np\n",
    "import matplotlib.pyplot as plt\n",
    "import pandas as pd\n",
    "import utils\n",
    "plt.rc('font', size=15)"
   ]
  },
  {
   "cell_type": "code",
   "execution_count": null,
   "metadata": {},
   "outputs": [],
   "source": [
    "import numpy as np\n",
    "import matplotlib.pyplot as plt"
   ]
  },
  {
   "cell_type": "markdown",
   "metadata": {
    "id": "MsUtYPrZy7uv"
   },
   "source": [
    "# 데이터 로드"
   ]
  },
  {
   "cell_type": "markdown",
   "metadata": {
    "id": "oxHRklqLy7uv"
   },
   "source": [
    "## 신호 로드하고 그려보기"
   ]
  },
  {
   "cell_type": "markdown",
   "metadata": {
    "id": "N1YjDQxZy7uv"
   },
   "source": [
    "### 신호 로드하기"
   ]
  },
  {
   "cell_type": "code",
   "execution_count": null,
   "metadata": {},
   "outputs": [],
   "source": [
    "try:\n",
    "    import librosa\n",
    "except ImportError:\n",
    "    %pip install librosa"
   ]
  },
  {
   "cell_type": "code",
   "execution_count": null,
   "metadata": {
    "id": "EEBCkeaey7uw"
   },
   "outputs": [],
   "source": [
    "import numpy as np\n",
    "import matplotlib.pyplot as plt\n",
    "from scipy.io import wavfile\n",
    "from scipy.signal import spectrogram\n",
    "import librosa\n",
    "\n",
    "\n",
    "file_path1 = './data/autorash.mp3'\n",
    "v_a, fs_a = librosa.load(file_path1, sr=None)\n",
    "\n",
    "file_path2 = './data/knocking.mp3'\n",
    "v_k, fs_k = librosa.load(file_path2, sr=None)\n",
    "\n",
    "print(np.shape(v_a))\n",
    "print(np.shape(v_k))\n",
    "print(fs_a)\n",
    "print(fs_k)"
   ]
  },
  {
   "cell_type": "code",
   "execution_count": null,
   "metadata": {
    "id": "DYA3OEM4y7ux"
   },
   "outputs": [],
   "source": [
    "slice_length = len(v_k) # 두 음성 신호의 길이를 맞춰주기 위한 코드\n",
    "\n",
    "v_a = v_a[:slice_length]\n",
    "T_a = len(v_a) / fs_a\n",
    "t_a = np.arange(1/fs_a, T_a + 1/fs_a, 1/fs_a)\n",
    "\n",
    "# Knocking 데이터\n",
    "T_k = len(v_k) / fs_k\n",
    "t_k = np.arange(1/fs_k, T_k + 1/fs_k, 1/fs_k)\n"
   ]
  },
  {
   "cell_type": "markdown",
   "metadata": {
    "id": "sg9bMCc0y7ux"
   },
   "source": [
    "### 신호 그리기"
   ]
  },
  {
   "cell_type": "code",
   "execution_count": null,
   "metadata": {
    "id": "lBoOn7Ezy7ux"
   },
   "outputs": [],
   "source": [
    "import matplotlib.pyplot as plt\n",
    "\n",
    "plt.figure(figsize=(8,4))\n",
    "plt.plot(t_a, v_a, 'r')\n",
    "plt.title('Autorash')\n",
    "plt.xlabel('Time (sec)')\n",
    "plt.show()\n",
    "\n",
    "plt.figure(figsize=(8,4))\n",
    "plt.plot(t_a, v_k, 'b')\n",
    "plt.title('Knocking')\n",
    "plt.xlabel('Time (sec)')\n",
    "plt.show()"
   ]
  },
  {
   "cell_type": "markdown",
   "metadata": {
    "id": "2nvIt5aMy7uy"
   },
   "source": [
    "## 주파수 분석해보기"
   ]
  },
  {
   "cell_type": "code",
   "execution_count": null,
   "metadata": {
    "id": "694VZ2C7y7uy"
   },
   "outputs": [],
   "source": [
    "import utils\n",
    "\n",
    "f1, A1 = utils.fft_simple(v_a,fs_a) # Autorash\n",
    "f2, A2 = utils.fft_simple(v_k,fs_k) # Knocking"
   ]
  },
  {
   "cell_type": "code",
   "execution_count": null,
   "metadata": {
    "id": "_6v8wj1hy7uy"
   },
   "outputs": [],
   "source": [
    "# 각 FFT 결과를 플롯에 추가\n",
    "plt.figure()\n",
    "plt.plot(f1, A1, 'r', label='Autorash')\n",
    "plt.xlabel('Frequency')\n",
    "plt.ylabel('|X(f)|')\n",
    "plt.xlim([0, 2000])\n",
    "plt.ylim([0, 0.01])\n",
    "plt.title('FFT Results of Autorash')\n",
    "plt.legend()\n",
    "plt.show()\n",
    "\n",
    "plt.figure()\n",
    "plt.plot(f2, A2, 'b', label='Knocking')\n",
    "plt.xlabel('Frequency')\n",
    "plt.ylabel('|X(f)|')\n",
    "plt.xlim([0, 2000])\n",
    "plt.ylim([0, 0.001])\n",
    "plt.title('FFT Results of Knocking')\n",
    "plt.legend()\n",
    "plt.show()\n"
   ]
  },
  {
   "cell_type": "markdown",
   "metadata": {
    "id": "85fzEjs9y7uz"
   },
   "source": [
    "### 각 FFT Results zoomed"
   ]
  },
  {
   "cell_type": "code",
   "execution_count": null,
   "metadata": {
    "id": "XkZzq_vTy7uz"
   },
   "outputs": [],
   "source": [
    "# 각 FFT 결과를 플롯에 추가\n",
    "plt.figure()\n",
    "plt.plot(f1, A1, 'r', label='Autorash')\n",
    "\n",
    "plt.xlabel('Frequency')\n",
    "plt.ylabel('|X(f)|')\n",
    "plt.xlim([0, 300])\n",
    "plt.ylim([0, 0.02])\n",
    "plt.title('FFT Results of Autorash')\n",
    "plt.legend()\n",
    "\n",
    "plt.show()\n",
    "\n",
    "plt.figure()\n",
    "\n",
    "plt.plot(f2, A2, 'b', label='Knocking')\n",
    "\n",
    "plt.xlabel('Frequency')\n",
    "plt.ylabel('|X(f)|')\n",
    "plt.xlim([0, 300])\n",
    "plt.ylim([0, 0.0005])\n",
    "plt.title('FFT Results of Knocking')\n",
    "plt.legend()\n",
    "\n",
    "plt.show()\n"
   ]
  },
  {
   "cell_type": "markdown",
   "metadata": {},
   "source": [
    "## 시간-주파수분석 수행"
   ]
  },
  {
   "cell_type": "code",
   "execution_count": null,
   "metadata": {},
   "outputs": [],
   "source": [
    "from scipy.signal import stft"
   ]
  },
  {
   "cell_type": "markdown",
   "metadata": {},
   "source": [
    "위에서 로드한 stft를 활용하여 시간-주파수 분석 수행 (nperseg=256, noverlap=128, nfft=256)\n",
    "\n",
    "시간-주파수분석 결과에서 주파수는 10,000Hz 까지 표시 (cmap='plasma')"
   ]
  },
  {
   "cell_type": "code",
   "execution_count": null,
   "metadata": {},
   "outputs": [],
   "source": []
  },
  {
   "cell_type": "code",
   "execution_count": null,
   "metadata": {
    "id": "PVIPYYpTy7uz"
   },
   "outputs": [],
   "source": [
    "# STFT 계산 (여기서는 예제로 변수 v_a, fs_a 사용)\n",
    "f_autorash, t_stft_autorash, Zxx_autorash = stft(v_a, fs=fs_a, nperseg=256, noverlap=128, nfft=256)\n",
    "plt.figure(figsize=(10, 6))\n",
    "plt.pcolormesh(t_stft_autorash, f_autorash, np.abs(Zxx_autorash), shading='gouraud', cmap='plasma')\n",
    "plt.title('STFT Magnitude of Autorash')\n",
    "plt.ylabel('Frequency [Hz]')\n",
    "plt.xlabel('Time [sec]')\n",
    "plt.colorbar(label='Magnitude')\n",
    "plt.ylim(0, 10000)\n",
    "plt.tight_layout()\n",
    "plt.show()"
   ]
  },
  {
   "cell_type": "code",
   "execution_count": null,
   "metadata": {
    "id": "GdgH7OzTy7uz"
   },
   "outputs": [],
   "source": [
    "# STFT 계산 (여기서는 예제로 변수 v_k, fs_k 사용)\n",
    "f_knocking, t_stft_knocking, Zxx_knocking = stft(v_k, fs=fs_k, nperseg=256, noverlap=128, nfft=256)\n",
    "plt.figure(figsize=(10, 6))\n",
    "plt.pcolormesh(t_stft_knocking, f_knocking, np.abs(Zxx_knocking), shading='gouraud', cmap='plasma')\n",
    "plt.title('STFT Magnitude of Knocking')\n",
    "plt.ylabel('Frequency [Hz]')\n",
    "plt.xlabel('Time [sec]')\n",
    "plt.colorbar(label='Magnitude')\n",
    "plt.ylim(0, 10000)\n",
    "plt.tight_layout()\n",
    "plt.show()"
   ]
  },
  {
   "cell_type": "markdown",
   "metadata": {},
   "source": [
    "# F1 Engine Music"
   ]
  },
  {
   "cell_type": "code",
   "execution_count": null,
   "metadata": {},
   "outputs": [],
   "source": [
    "file_path3 = './data/f1music.mp3'\n",
    "v_f1, fs_f1 = librosa.load(file_path3, sr=None)\n",
    "\n",
    "T_f1 = len(v_f1) / fs_f1\n",
    "t_f1 = np.arange(1/fs_f1, T_f1 + 1/fs_f1, 1/fs_f1)\n",
    "\n",
    "plt.figure(figsize=(10,6))\n",
    "plt.plot(t_f1, v_f1, 'k')\n",
    "plt.title('F1 Engine')\n",
    "plt.xlabel('Time (sec)')\n",
    "plt.show()"
   ]
  },
  {
   "cell_type": "markdown",
   "metadata": {},
   "source": [
    "## Time-frequency Analysis (STFT: Short Time Fourier Transform)\n",
    "\n",
    "Use stft, which are loaded above, using nperseg=2048, noverlap=1024\n",
    "\n",
    "plot up to 1,000 Hz, cmap='plasma'"
   ]
  },
  {
   "cell_type": "markdown",
   "metadata": {},
   "source": [
    "위에서 로드한 stft를 활용하여 시간-주파수 분석 수행 (nperseg=2048, noverlap=1024)\n",
    "\n",
    "시간-주파수분석 결과에서 주파수는 1,000Hz 까지 표시 (cmap='plasma')"
   ]
  },
  {
   "cell_type": "code",
   "execution_count": null,
   "metadata": {},
   "outputs": [],
   "source": []
  },
  {
   "cell_type": "code",
   "execution_count": null,
   "metadata": {},
   "outputs": [],
   "source": [
    "# STFT 계산 (여기서는 예제로 변수 v_k, fs_k 사용)\n",
    "f_knocking, t_stft_knocking, Zxx_knocking = stft(v_f1, fs=fs_f1, nperseg=2048, noverlap=1024)\n",
    "plt.figure(figsize=(10, 6))\n",
    "plt.pcolormesh(t_stft_knocking, f_knocking, np.abs(Zxx_knocking), shading='gouraud', cmap='plasma')\n",
    "plt.title('STFT Magnitude of Knocking')\n",
    "plt.ylabel('Frequency [Hz]')\n",
    "plt.xlabel('Time [sec]')\n",
    "plt.colorbar(label='Magnitude')\n",
    "plt.ylim(0, 1024)\n",
    "plt.tight_layout()\n",
    "plt.show()"
   ]
  },
  {
   "cell_type": "markdown",
   "metadata": {},
   "source": [
    "## Mel (Linear)"
   ]
  },
  {
   "cell_type": "markdown",
   "metadata": {},
   "source": [
    "librosa.feature.melspectrogram 활용하여 melspectrogram 분석 (win_length=2048, hop_length=1024)\n",
    "\n",
    "1,024 Hz까지 표시하고, cmap = 'jet', x축: 시간, y축: 'mel', z값 (color): linear scale로 셋팅"
   ]
  },
  {
   "cell_type": "code",
   "execution_count": null,
   "metadata": {},
   "outputs": [],
   "source": []
  },
  {
   "cell_type": "code",
   "execution_count": null,
   "metadata": {},
   "outputs": [],
   "source": [
    "S = librosa.feature.melspectrogram(y=v_f1, sr=fs_f1, S=None, hop_length = 1024, win_length=2048)\n",
    "plt.figure(figsize=(12, 6))\n",
    "S_dB = librosa.power_to_db(S, ref=np.max)\n",
    "img = librosa.display.specshow(S, x_axis='time', y_axis='mel', sr=fs_f1, hop_length=1024, cmap='jet')\n",
    "plt.ylim(0, 1024)\n",
    "plt.colorbar(label='Magnitude')\n"
   ]
  },
  {
   "cell_type": "markdown",
   "metadata": {},
   "source": [
    "## Mel (dB)"
   ]
  },
  {
   "cell_type": "code",
   "execution_count": null,
   "metadata": {},
   "outputs": [],
   "source": [
    "plt.figure(figsize=(12, 6))\n",
    "img = librosa.display.specshow(S_dB, x_axis='time', y_axis='mel', sr=fs_f1, hop_length=1024, cmap='jet')\n",
    "plt.ylim(0, 1024)\n",
    "plt.colorbar(label='Magnitude')"
   ]
  }
 ],
 "metadata": {
  "colab": {
   "provenance": []
  },
  "kernelspec": {
   "display_name": "base",
   "language": "python",
   "name": "python3"
  },
  "language_info": {
   "codemirror_mode": {
    "name": "ipython",
    "version": 3
   },
   "file_extension": ".py",
   "mimetype": "text/x-python",
   "name": "python",
   "nbconvert_exporter": "python",
   "pygments_lexer": "ipython3",
   "version": "3.12.7"
  },
  "toc": {
   "base_numbering": 1,
   "nav_menu": {},
   "number_sections": true,
   "sideBar": true,
   "skip_h1_title": false,
   "title_cell": "Table of Contents",
   "title_sidebar": "Contents",
   "toc_cell": false,
   "toc_position": {},
   "toc_section_display": true,
   "toc_window_display": false
  },
  "varInspector": {
   "cols": {
    "lenName": 16,
    "lenType": 16,
    "lenVar": 40
   },
   "kernels_config": {
    "python": {
     "delete_cmd_postfix": "",
     "delete_cmd_prefix": "del ",
     "library": "var_list.py",
     "varRefreshCmd": "print(var_dic_list())"
    },
    "r": {
     "delete_cmd_postfix": ") ",
     "delete_cmd_prefix": "rm(",
     "library": "var_list.r",
     "varRefreshCmd": "cat(var_dic_list()) "
    }
   },
   "types_to_exclude": [
    "module",
    "function",
    "builtin_function_or_method",
    "instance",
    "_Feature"
   ],
   "window_display": false
  }
 },
 "nbformat": 4,
 "nbformat_minor": 0
}
