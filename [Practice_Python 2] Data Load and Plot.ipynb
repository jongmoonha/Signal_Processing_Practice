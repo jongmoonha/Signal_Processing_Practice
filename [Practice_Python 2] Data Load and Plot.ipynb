{
 "cells": [
  {
   "cell_type": "code",
   "execution_count": null,
   "metadata": {
    "id": "ljsqqwLTwZeN"
   },
   "outputs": [],
   "source": [
    "import os, sys, subprocess\n",
    "\n",
    "REPO = \"https://github.com/jongmoonha/Signal_Processing_Practice.git\"\n",
    "DIR  = \"Signal_Processing_Practice\"\n",
    "\n",
    "try:\n",
    "    import google.colab  # Colab 전용 모듈\n",
    "    if not os.path.isdir(DIR):\n",
    "        subprocess.run([\"git\",\"clone\",REPO], check=True)\n",
    "    print('We are in Google Colab environment.')\n",
    "    os.chdir('/content/'+DIR)\n",
    "    print('Current working directory:', os.getcwd())\n",
    "\n",
    "except ImportError:\n",
    "    print('We are in a local environment, not Google Colab.')\n",
    "    pass"
   ]
  },
  {
   "cell_type": "code",
   "execution_count": null,
   "metadata": {
    "ExecuteTime": {
     "end_time": "2022-03-28T12:59:51.697445Z",
     "start_time": "2022-03-28T12:59:46.871358Z"
    },
    "id": "fUbL27UowYIE"
   },
   "outputs": [],
   "source": [
    "import pandas as pd\n",
    "import numpy as np\n",
    "import matplotlib.pyplot as plt"
   ]
  },
  {
   "cell_type": "markdown",
   "metadata": {
    "id": "XXC-_M1QwYIG"
   },
   "source": [
    "# Load Data"
   ]
  },
  {
   "cell_type": "code",
   "execution_count": null,
   "metadata": {
    "ExecuteTime": {
     "end_time": "2022-03-28T12:59:51.952762Z",
     "start_time": "2022-03-28T12:59:51.703435Z"
    },
    "id": "0G9eUePCwYIH"
   },
   "outputs": [],
   "source": [
    "data = np.array(pd.read_csv('./data/data_normal.csv'))\n",
    "print(np.shape(data))\n",
    "print(data)\n",
    "\n",
    "v_normal = data[:,1]"
   ]
  },
  {
   "cell_type": "code",
   "execution_count": null,
   "metadata": {
    "ExecuteTime": {
     "end_time": "2022-03-28T12:59:52.103359Z",
     "start_time": "2022-03-28T12:59:51.955754Z"
    },
    "id": "GOEmBou7wYIH"
   },
   "outputs": [],
   "source": [
    "data = np.array(pd.read_csv('./data/data_fault_DE_IR.csv'))\n",
    "print(np.shape(data))\n",
    "print(data)\n",
    "\n",
    "v_fault = data[:,1]"
   ]
  },
  {
   "cell_type": "markdown",
   "metadata": {
    "id": "6FZ4uXiOwYIH"
   },
   "source": [
    "# Plot Data"
   ]
  },
  {
   "cell_type": "markdown",
   "metadata": {},
   "source": [
    "v_fault 를 빨간색으로, v_normal 을 파란색으로 그래프를 그리고 y 축 범위를 [-1 ~ 1] 로 설정"
   ]
  },
  {
   "cell_type": "code",
   "execution_count": null,
   "metadata": {},
   "outputs": [],
   "source": []
  },
  {
   "cell_type": "code",
   "execution_count": null,
   "metadata": {
    "ExecuteTime": {
     "end_time": "2022-03-28T12:59:52.734522Z",
     "start_time": "2022-03-28T12:59:52.107348Z"
    },
    "id": "cqVM7KumwYIH"
   },
   "outputs": [],
   "source": [
    "plt.figure()\n",
    "plt.plot(v_fault, 'r')\n",
    "plt.plot(v_normal, 'b')\n",
    "plt.ylim([-1, 1])"
   ]
  }
 ],
 "metadata": {
  "colab": {
   "provenance": []
  },
  "kernelspec": {
   "display_name": "Python 3 (ipykernel)",
   "language": "python",
   "name": "python3"
  },
  "language_info": {
   "codemirror_mode": {
    "name": "ipython",
    "version": 3
   },
   "file_extension": ".py",
   "mimetype": "text/x-python",
   "name": "python",
   "nbconvert_exporter": "python",
   "pygments_lexer": "ipython3",
   "version": "3.9.12"
  },
  "toc": {
   "base_numbering": 1,
   "nav_menu": {},
   "number_sections": true,
   "sideBar": true,
   "skip_h1_title": false,
   "title_cell": "Table of Contents",
   "title_sidebar": "Contents",
   "toc_cell": false,
   "toc_position": {},
   "toc_section_display": true,
   "toc_window_display": false
  },
  "varInspector": {
   "cols": {
    "lenName": 16,
    "lenType": 16,
    "lenVar": 40
   },
   "kernels_config": {
    "python": {
     "delete_cmd_postfix": "",
     "delete_cmd_prefix": "del ",
     "library": "var_list.py",
     "varRefreshCmd": "print(var_dic_list())"
    },
    "r": {
     "delete_cmd_postfix": ") ",
     "delete_cmd_prefix": "rm(",
     "library": "var_list.r",
     "varRefreshCmd": "cat(var_dic_list()) "
    }
   },
   "types_to_exclude": [
    "module",
    "function",
    "builtin_function_or_method",
    "instance",
    "_Feature"
   ],
   "window_display": false
  }
 },
 "nbformat": 4,
 "nbformat_minor": 0
}
