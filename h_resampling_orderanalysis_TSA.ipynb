{
 "cells": [
  {
   "cell_type": "code",
   "execution_count": null,
   "metadata": {},
   "outputs": [],
   "source": [
    "import os, sys, subprocess\n",
    "\n",
    "REPO = \"https://github.com/jongmoonha/Signal_Processing_Practice.git\"\n",
    "DIR  = \"Signal_Processing_Practice\"\n",
    "\n",
    "try:\n",
    "    import google.colab  # Colab 전용 모듈\n",
    "    if not os.path.isdir(DIR):\n",
    "        subprocess.run([\"git\",\"clone\",REPO], check=True)\n",
    "    print('We are in Google Colab environment.')\n",
    "    os.chdir('/content/'+DIR)\n",
    "    print('Current working directory:', os.getcwd())\n",
    "\n",
    "except ImportError:\n",
    "    print('We are in a local environment, not Google Colab.')\n",
    "    pass"
   ]
  },
  {
   "attachments": {},
   "cell_type": "markdown",
   "metadata": {},
   "source": [
    "# Resampling, Order analysis, TSA Practice"
   ]
  },
  {
   "cell_type": "code",
   "execution_count": null,
   "metadata": {
    "executionInfo": {
     "elapsed": 228,
     "status": "ok",
     "timestamp": 1624811513823,
     "user": {
      "displayName": "Jeonghoon Kim",
      "photoUrl": "https://lh3.googleusercontent.com/a-/AOh14GgOtJjS_RLD2C-D0ZGyJaxPe-AcYKYxnV8Z68-kmjA=s64",
      "userId": "15429995566139220335"
     },
     "user_tz": -540
    },
    "id": "fawLgKP3RaKA"
   },
   "outputs": [],
   "source": [
    "from scipy.io import loadmat\n",
    "import matplotlib.pyplot as plt\n",
    "import numpy as np\n",
    "\n",
    "from scipy import signal, stats\n",
    "from scipy.signal import hilbert\n",
    "from scipy.signal import lfilter\n",
    "from scipy.interpolate import interp1d\n",
    "\n",
    "import utils\n",
    "\n",
    "plt.rc('font', size=20)"
   ]
  },
  {
   "attachments": {},
   "cell_type": "markdown",
   "metadata": {
    "id": "pkCjRUY1SMmk"
   },
   "source": [
    "## 신호 생성"
   ]
  },
  {
   "cell_type": "code",
   "execution_count": null,
   "metadata": {
    "executionInfo": {
     "elapsed": 202,
     "status": "ok",
     "timestamp": 1624810901028,
     "user": {
      "displayName": "Jeonghoon Kim",
      "photoUrl": "https://lh3.googleusercontent.com/a-/AOh14GgOtJjS_RLD2C-D0ZGyJaxPe-AcYKYxnV8Z68-kmjA=s64",
      "userId": "15429995566139220335"
     },
     "user_tz": -540
    },
    "id": "inVe43ETRhGa"
   },
   "outputs": [],
   "source": [
    "fs = 1000;\n",
    "T = 20;\n",
    "t = np.arange(1/fs,T+1/fs,1/fs);\n",
    "n_gear = 3\n",
    "\n",
    "w_rot = 1+t"
   ]
  },
  {
   "cell_type": "code",
   "execution_count": null,
   "metadata": {
    "executionInfo": {
     "elapsed": 208,
     "status": "ok",
     "timestamp": 1624810962050,
     "user": {
      "displayName": "Jeonghoon Kim",
      "photoUrl": "https://lh3.googleusercontent.com/a-/AOh14GgOtJjS_RLD2C-D0ZGyJaxPe-AcYKYxnV8Z68-kmjA=s64",
      "userId": "15429995566139220335"
     },
     "user_tz": -540
    },
    "id": "wiAvSbIARswL"
   },
   "outputs": [],
   "source": [
    "phase_deg = np.cumsum(w_rot)*360/fs\n",
    "phase_rad = 2*np.pi*phase_deg/360\n",
    "v = np.sin(n_gear*phase_rad);"
   ]
  },
  {
   "cell_type": "code",
   "execution_count": null,
   "metadata": {
    "colab": {
     "base_uri": "https://localhost:8080/",
     "height": 297
    },
    "executionInfo": {
     "elapsed": 797,
     "status": "ok",
     "timestamp": 1624810990064,
     "user": {
      "displayName": "Jeonghoon Kim",
      "photoUrl": "https://lh3.googleusercontent.com/a-/AOh14GgOtJjS_RLD2C-D0ZGyJaxPe-AcYKYxnV8Z68-kmjA=s64",
      "userId": "15429995566139220335"
     },
     "user_tz": -540
    },
    "id": "4XBA9cbuRxdr",
    "outputId": "bb1e9f58-de67-48c4-c13e-be16bce9d585"
   },
   "outputs": [],
   "source": [
    "plt.figure(figsize=(8,6))\n",
    "plt.subplot(211)\n",
    "plt.plot(t,w_rot);\n",
    "plt.xlabel('Time (s)');plt.ylabel('Speed (Hz)')\n",
    "plt.subplot(212)\n",
    "plt.plot(t,phase_deg)\n",
    "plt.xlabel('Time (s)');plt.ylabel('deg')\n",
    "plt.subplots_adjust(hspace=0.5)"
   ]
  },
  {
   "cell_type": "code",
   "execution_count": null,
   "metadata": {
    "colab": {
     "base_uri": "https://localhost:8080/",
     "height": 297
    },
    "executionInfo": {
     "elapsed": 695,
     "status": "ok",
     "timestamp": 1624811012950,
     "user": {
      "displayName": "Jeonghoon Kim",
      "photoUrl": "https://lh3.googleusercontent.com/a-/AOh14GgOtJjS_RLD2C-D0ZGyJaxPe-AcYKYxnV8Z68-kmjA=s64",
      "userId": "15429995566139220335"
     },
     "user_tz": -540
    },
    "id": "83HqLQmJRyAL",
    "outputId": "49d7175a-93c4-4e07-8b2d-1922265dde9f"
   },
   "outputs": [],
   "source": [
    "plt.figure(figsize=(8,6))\n",
    "plt.plot(t,v,'.-');\n",
    "plt.xlabel('Time (s)');plt.ylabel('v')"
   ]
  },
  {
   "cell_type": "code",
   "execution_count": null,
   "metadata": {},
   "outputs": [],
   "source": [
    "plt.figure(figsize=(8,6))\n",
    "plt.plot(t,v,'.-');\n",
    "plt.xlabel('Time (s)');plt.ylabel('v')\n",
    "plt.xlim([0, 5])"
   ]
  },
  {
   "attachments": {},
   "cell_type": "markdown",
   "metadata": {
    "id": "kMncs010SOnm"
   },
   "source": [
    "## 주파수 분석"
   ]
  },
  {
   "cell_type": "code",
   "execution_count": null,
   "metadata": {
    "colab": {
     "base_uri": "https://localhost:8080/",
     "height": 354
    },
    "executionInfo": {
     "elapsed": 14099,
     "status": "ok",
     "timestamp": 1624811076399,
     "user": {
      "displayName": "Jeonghoon Kim",
      "photoUrl": "https://lh3.googleusercontent.com/a-/AOh14GgOtJjS_RLD2C-D0ZGyJaxPe-AcYKYxnV8Z68-kmjA=s64",
      "userId": "15429995566139220335"
     },
     "user_tz": -540
    },
    "id": "PyqBLct7SGUQ",
    "outputId": "a9a6925a-8cb9-49ee-f853-90303a864ded"
   },
   "outputs": [],
   "source": [
    "[f, A] = utils.fft_simple(v,fs);\n",
    "plt.figure(figsize=(8,6))\n",
    "plt.plot(f,A)\n",
    "plt.xlabel('Freq');plt.ylabel('Y')"
   ]
  },
  {
   "attachments": {},
   "cell_type": "markdown",
   "metadata": {
    "id": "fZb4aMOLSXMM"
   },
   "source": [
    "## Resampling Frequency 결정\n",
    "\n",
    "### 데이터에서 계산해도 되고, 그냥 정해줘도 됨"
   ]
  },
  {
   "cell_type": "code",
   "execution_count": null,
   "metadata": {
    "colab": {
     "base_uri": "https://localhost:8080/"
    },
    "executionInfo": {
     "elapsed": 208,
     "status": "ok",
     "timestamp": 1624811188747,
     "user": {
      "displayName": "Jeonghoon Kim",
      "photoUrl": "https://lh3.googleusercontent.com/a-/AOh14GgOtJjS_RLD2C-D0ZGyJaxPe-AcYKYxnV8Z68-kmjA=s64",
      "userId": "15429995566139220335"
     },
     "user_tz": -540
    },
    "id": "ZNKEt6vKSYkf",
    "outputId": "9db106cf-b617-4a00-e039-17dbd75710a2"
   },
   "outputs": [],
   "source": [
    "Nrot = phase_deg[-1]/360\n",
    "Nsamples = len(v)\n",
    "fs_re = np.floor(Nsamples/Nrot)\n",
    "\n",
    "print('# of Rotations are {:.2f}'.format(Nrot))\n",
    "print('# of Samples are {:.0f}'.format(Nsamples))\n",
    "print('# of Samples per rotation are {:.2f}'.format(fs_re))"
   ]
  },
  {
   "cell_type": "code",
   "execution_count": null,
   "metadata": {
    "executionInfo": {
     "elapsed": 211,
     "status": "ok",
     "timestamp": 1624811190720,
     "user": {
      "displayName": "Jeonghoon Kim",
      "photoUrl": "https://lh3.googleusercontent.com/a-/AOh14GgOtJjS_RLD2C-D0ZGyJaxPe-AcYKYxnV8Z68-kmjA=s64",
      "userId": "15429995566139220335"
     },
     "user_tz": -540
    },
    "id": "e2xTwXp1SeZ1"
   },
   "outputs": [],
   "source": [
    "fs_re = 100"
   ]
  },
  {
   "attachments": {},
   "cell_type": "markdown",
   "metadata": {
    "id": "dh_JEbpWS5pu"
   },
   "source": [
    "## Resampling 코드 짜보기"
   ]
  },
  {
   "cell_type": "code",
   "execution_count": null,
   "metadata": {
    "executionInfo": {
     "elapsed": 206,
     "status": "ok",
     "timestamp": 1624811204699,
     "user": {
      "displayName": "Jeonghoon Kim",
      "photoUrl": "https://lh3.googleusercontent.com/a-/AOh14GgOtJjS_RLD2C-D0ZGyJaxPe-AcYKYxnV8Z68-kmjA=s64",
      "userId": "15429995566139220335"
     },
     "user_tz": -540
    },
    "id": "zQLh0jpUSzem"
   },
   "outputs": [],
   "source": [
    "starting = phase_deg[0]\n",
    "ending = phase_deg[-1]"
   ]
  },
  {
   "cell_type": "code",
   "execution_count": null,
   "metadata": {
    "executionInfo": {
     "elapsed": 227,
     "status": "ok",
     "timestamp": 1624811209250,
     "user": {
      "displayName": "Jeonghoon Kim",
      "photoUrl": "https://lh3.googleusercontent.com/a-/AOh14GgOtJjS_RLD2C-D0ZGyJaxPe-AcYKYxnV8Z68-kmjA=s64",
      "userId": "15429995566139220335"
     },
     "user_tz": -540
    },
    "id": "NO4oA2WGS242"
   },
   "outputs": [],
   "source": [
    "degree_re_delta = 360 / fs_re"
   ]
  },
  {
   "cell_type": "code",
   "execution_count": null,
   "metadata": {
    "colab": {
     "base_uri": "https://localhost:8080/"
    },
    "executionInfo": {
     "elapsed": 210,
     "status": "ok",
     "timestamp": 1624811268221,
     "user": {
      "displayName": "Jeonghoon Kim",
      "photoUrl": "https://lh3.googleusercontent.com/a-/AOh14GgOtJjS_RLD2C-D0ZGyJaxPe-AcYKYxnV8Z68-kmjA=s64",
      "userId": "15429995566139220335"
     },
     "user_tz": -540
    },
    "id": "lBa4KDTkS3_u",
    "outputId": "807ea2fb-dab7-4caa-82b0-f70b24e73086"
   },
   "outputs": [],
   "source": [
    "degree_re = np.arange(starting + degree_re_delta,  ending,  degree_re_delta)\n",
    "\n",
    "degree_re[0:4]"
   ]
  },
  {
   "cell_type": "code",
   "execution_count": null,
   "metadata": {
    "colab": {
     "base_uri": "https://localhost:8080/"
    },
    "executionInfo": {
     "elapsed": 209,
     "status": "ok",
     "timestamp": 1624811376162,
     "user": {
      "displayName": "Jeonghoon Kim",
      "photoUrl": "https://lh3.googleusercontent.com/a-/AOh14GgOtJjS_RLD2C-D0ZGyJaxPe-AcYKYxnV8Z68-kmjA=s64",
      "userId": "15429995566139220335"
     },
     "user_tz": -540
    },
    "id": "cv1UvcQ9TGZg",
    "outputId": "67cdab45-c45a-4f33-d1fa-de9c87ad6006"
   },
   "outputs": [],
   "source": [
    "degree_re[-7:-1]"
   ]
  },
  {
   "cell_type": "code",
   "execution_count": null,
   "metadata": {
    "executionInfo": {
     "elapsed": 218,
     "status": "ok",
     "timestamp": 1624811927427,
     "user": {
      "displayName": "Jeonghoon Kim",
      "photoUrl": "https://lh3.googleusercontent.com/a-/AOh14GgOtJjS_RLD2C-D0ZGyJaxPe-AcYKYxnV8Z68-kmjA=s64",
      "userId": "15429995566139220335"
     },
     "user_tz": -540
    },
    "id": "4uPwfLF5TLFo"
   },
   "outputs": [],
   "source": [
    "fx_t_re = interp1d(phase_deg, t);\n",
    "t_re=fx_t_re(degree_re)\n",
    "\n",
    "fx_v_re = interp1d(t, v);\n",
    "v_re=fx_v_re(t_re)"
   ]
  },
  {
   "attachments": {},
   "cell_type": "markdown",
   "metadata": {
    "id": "wZsqi8fdVyST"
   },
   "source": [
    "Order analysis\n"
   ]
  },
  {
   "cell_type": "code",
   "execution_count": null,
   "metadata": {
    "executionInfo": {
     "elapsed": 214,
     "status": "ok",
     "timestamp": 1624811933467,
     "user": {
      "displayName": "Jeonghoon Kim",
      "photoUrl": "https://lh3.googleusercontent.com/a-/AOh14GgOtJjS_RLD2C-D0ZGyJaxPe-AcYKYxnV8Z68-kmjA=s64",
      "userId": "15429995566139220335"
     },
     "user_tz": -540
    },
    "id": "KdqCfxdPUGYM"
   },
   "outputs": [],
   "source": [
    "[order, order_A] = utils.fft_simple(v_re,fs_re);"
   ]
  },
  {
   "attachments": {},
   "cell_type": "markdown",
   "metadata": {
    "colab": {
     "base_uri": "https://localhost:8080/",
     "height": 389
    },
    "executionInfo": {
     "elapsed": 32943,
     "status": "ok",
     "timestamp": 1624811995790,
     "user": {
      "displayName": "Jeonghoon Kim",
      "photoUrl": "https://lh3.googleusercontent.com/a-/AOh14GgOtJjS_RLD2C-D0ZGyJaxPe-AcYKYxnV8Z68-kmjA=s64",
      "userId": "15429995566139220335"
     },
     "user_tz": -540
    },
    "id": "0jN1walzVoz4",
    "outputId": "a0e203ef-94a9-497c-b137-cd03b7f06c54"
   },
   "source": [
    "plt.figure(figsize=(8,6))\n",
    "plt.subplot(121);plt.stem(order,order_A);plt.xlabel('Order');plt.ylabel('Y')\n",
    "plt.subplot(122);plt.stem(order,order_A);plt.xlim([2,4]);plt.xlabel('Order');plt.ylabel('Y')"
   ]
  },
  {
   "cell_type": "code",
   "execution_count": null,
   "metadata": {},
   "outputs": [],
   "source": [
    "plt.figure(figsize=(8,6))\n",
    "plt.subplot(121);plt.plot(order,order_A);plt.xlabel('Order');plt.ylabel('Y')\n",
    "plt.subplot(122);plt.plot(order,order_A);plt.xlim([2,4]);plt.xlabel('Order');plt.ylabel('Y')"
   ]
  },
  {
   "attachments": {},
   "cell_type": "markdown",
   "metadata": {
    "id": "mKBg8WqVV1AK"
   },
   "source": [
    "## Resampling - Trig=0"
   ]
  },
  {
   "attachments": {},
   "cell_type": "markdown",
   "metadata": {},
   "source": [
    "신호 전체 길이가 정확히 회전수의 정배수가 아니다 => 주파수 해상도가 소수점"
   ]
  },
  {
   "cell_type": "code",
   "execution_count": null,
   "metadata": {},
   "outputs": [],
   "source": [
    "trig = 0\n",
    "[t_re, v_re, degree_re, fs_re]=utils.resampling(t,v,phase_deg,fs_re,trig)\n",
    "N_re=len(v_re)\n",
    "print(N_re)"
   ]
  },
  {
   "attachments": {},
   "cell_type": "markdown",
   "metadata": {},
   "source": [
    "## Order analysis"
   ]
  },
  {
   "cell_type": "code",
   "execution_count": null,
   "metadata": {},
   "outputs": [],
   "source": [
    "order, order_A = utils.fft_simple(v_re,fs_re);\n",
    "plt.figure(figsize=(8,6))\n",
    "plt.subplot(121);plt.plot(order,order_A);plt.xlabel('Order');plt.ylabel('Y')\n",
    "plt.subplot(122);plt.plot(order,order_A,'-o');plt.xlim([2.95,3.05]);plt.xlabel('Order');plt.ylabel('Y')"
   ]
  },
  {
   "attachments": {},
   "cell_type": "markdown",
   "metadata": {},
   "source": [
    "## 해결방법 1: Zero-padding으로 회전수 정수배를 채워주자"
   ]
  },
  {
   "cell_type": "code",
   "execution_count": null,
   "metadata": {},
   "outputs": [],
   "source": [
    "v_re_pad = np.append(v_re, (np.zeros(fs_re-np.mod(N_re,fs_re))))\n",
    "len(v_re_pad)"
   ]
  },
  {
   "cell_type": "code",
   "execution_count": null,
   "metadata": {},
   "outputs": [],
   "source": [
    "order, order_A = utils.fft_simple(v_re_pad,fs_re);\n",
    "plt.figure(figsize=(8,6))\n",
    "plt.subplot(121);plt.plot(order,order_A);plt.xlabel('Order');plt.ylabel('Y')\n",
    "plt.subplot(122);plt.plot(order,order_A,'-o');plt.xlim([2.95,3.05]);plt.xlabel('Order');plt.ylabel('Y')"
   ]
  },
  {
   "attachments": {},
   "cell_type": "markdown",
   "metadata": {},
   "source": [
    "## 해결방법 2: 회전수 정수배가 되도록 신호 마지막을 버려주자\n",
    "## Resampling - Trig=1 -> 정확히 n 바퀴에 해당하는 진동 신호만 추출"
   ]
  },
  {
   "cell_type": "code",
   "execution_count": null,
   "metadata": {},
   "outputs": [],
   "source": [
    "trig = 1\n",
    "t_re, v_re, degree_re, fs_re=utils.resampling(t,v,phase_deg,fs_re,trig)\n",
    "N_re=len(v_re)\n",
    "print(N_re)"
   ]
  },
  {
   "attachments": {},
   "cell_type": "markdown",
   "metadata": {},
   "source": [
    "Order analysis\n"
   ]
  },
  {
   "cell_type": "code",
   "execution_count": null,
   "metadata": {},
   "outputs": [],
   "source": [
    "order, order_A = utils.fft_simple(v_re,fs_re)\n",
    "plt.figure(figsize=(8,6))\n",
    "plt.subplot(121);plt.plot(order,order_A);plt.xlabel('Order');plt.ylabel('Y')\n",
    "plt.subplot(122);plt.plot(order,order_A,'-o');plt.xlim([2.95,3.05]);plt.xlabel('Order');plt.ylabel('Y')"
   ]
  },
  {
   "attachments": {},
   "cell_type": "markdown",
   "metadata": {},
   "source": [
    "# TSA 및 고장진단"
   ]
  },
  {
   "attachments": {},
   "cell_type": "markdown",
   "metadata": {},
   "source": [
    "## 신호생성\n",
    "### 만약 신호 안에 주기적으로 (기어 1바퀴당 1번의) 이상치가 있었다면"
   ]
  },
  {
   "cell_type": "code",
   "execution_count": null,
   "metadata": {},
   "outputs": [],
   "source": [
    "v_re_f = np.copy(v_re_pad)\n",
    "v_re_n = np.copy(v_re_f)\n",
    "idx_tmp=np.arange(40,len(v_re_f),fs_re)\n",
    "v_re_f[idx_tmp] = v_re_f[idx_tmp] + 0.5\n",
    "\n",
    "plt.figure(figsize=(8,6))\n",
    "plt.plot(v_re_f)\n",
    "plt.figure(figsize=(8,6))\n",
    "plt.plot(v_re_f)\n",
    "plt.plot(v_re_n,'k')\n",
    "plt.xlim([0, 1000])"
   ]
  },
  {
   "attachments": {},
   "cell_type": "markdown",
   "metadata": {},
   "source": [
    "## 그런데 이 이상치들이 노이즈에 가려졌다면?"
   ]
  },
  {
   "cell_type": "code",
   "execution_count": null,
   "metadata": {},
   "outputs": [],
   "source": [
    "# Fix the random seed for reproducibility\n",
    "np.random.seed(1000)\n",
    "v_re_f = v_re_f+np.random.randn(np.size(v_re_f))/2;\n",
    "v_re_n = v_re_n+np.random.randn(np.size(v_re_n))/2;"
   ]
  },
  {
   "cell_type": "code",
   "execution_count": null,
   "metadata": {},
   "outputs": [],
   "source": [
    "plt.figure(figsize=(8,6))\n",
    "plt.plot(v_re_f)\n",
    "plt.figure(figsize=(8,6))\n",
    "plt.plot(v_re_f)\n",
    "plt.xlim([0, 1000])"
   ]
  },
  {
   "cell_type": "code",
   "execution_count": null,
   "metadata": {},
   "outputs": [],
   "source": [
    "plt.figure(figsize=(8,6))\n",
    "plt.plot(v_re_f,'r'); plt.plot(v_re_n,'k')\n",
    "plt.xlim([0,1000])\n",
    "plt.show()"
   ]
  },
  {
   "attachments": {},
   "cell_type": "markdown",
   "metadata": {},
   "source": [
    "## 신호를 잘라서 평균화"
   ]
  },
  {
   "cell_type": "code",
   "execution_count": null,
   "metadata": {},
   "outputs": [],
   "source": [
    "n_rot_TSA = 5\n",
    "v_reshape_f = v_re_f.reshape(n_rot_TSA*fs_re, -1,  order=\"F\")\n",
    "v_TSA_f = np.mean(v_reshape_f,1)\n",
    "np.shape(v_reshape_f)"
   ]
  },
  {
   "cell_type": "code",
   "execution_count": null,
   "metadata": {},
   "outputs": [],
   "source": [
    "plt.figure(figsize=(8,6))\n",
    "plt.plot(v_reshape_f, alpha=0.1)\n",
    "plt.plot(v_TSA_f,'r--',linewidth=2.5)"
   ]
  },
  {
   "cell_type": "code",
   "execution_count": null,
   "metadata": {},
   "outputs": [],
   "source": [
    "plt.figure(figsize=(8,6))\n",
    "plt.plot(v_TSA_f)"
   ]
  },
  {
   "attachments": {},
   "cell_type": "markdown",
   "metadata": {},
   "source": [
    "## 여기서 다시 Feature를 뽑아보자\n",
    "### 일단 비교를 위해 정상 데이터도 만들어 주고"
   ]
  },
  {
   "cell_type": "code",
   "execution_count": null,
   "metadata": {},
   "outputs": [],
   "source": [
    "v_reshape_n = v_re_n.reshape(n_rot_TSA*fs_re, -1,  order=\"F\")\n",
    "v_TSA_n = np.mean(v_reshape_n,1)"
   ]
  },
  {
   "attachments": {},
   "cell_type": "markdown",
   "metadata": {},
   "source": [
    "### Plot Data"
   ]
  },
  {
   "cell_type": "code",
   "execution_count": null,
   "metadata": {},
   "outputs": [],
   "source": [
    "plt.figure(figsize=(8,6))\n",
    "plt.plot(v_TSA_f,'r')\n",
    "plt.plot(v_TSA_n,'b')\n",
    "plt.xlabel('Samples');plt.ylabel('v')\n",
    "plt.show()"
   ]
  },
  {
   "attachments": {},
   "cell_type": "markdown",
   "metadata": {},
   "source": [
    "### 주파수 분석해보기\n"
   ]
  },
  {
   "cell_type": "code",
   "execution_count": null,
   "metadata": {},
   "outputs": [],
   "source": [
    "f_n, A_n = utils.fft_simple(v_TSA_n,fs_re)\n",
    "f_f, A_f = utils.fft_simple(v_TSA_f,fs_re)\n",
    "plt.figure(figsize=(8,6))\n",
    "plt.plot(f_f,A_f,'r')\n",
    "plt.plot(f_n, A_n, 'b')\n",
    "plt.xlabel('Order');plt.ylabel('|Y|')\n",
    "plt.show()"
   ]
  },
  {
   "cell_type": "code",
   "execution_count": null,
   "metadata": {},
   "outputs": [],
   "source": [
    "plt.figure(figsize=(8,6))\n",
    "plt.plot(f_f,A_f,'r')\n",
    "plt.plot(f_n, A_n, 'b');plt.ylim([0,0.05])\n",
    "plt.xlabel('Order');plt.ylabel('|Y|')"
   ]
  },
  {
   "attachments": {},
   "cell_type": "markdown",
   "metadata": {},
   "source": [
    "### 필터링 후 분석 해보기"
   ]
  },
  {
   "attachments": {},
   "cell_type": "markdown",
   "metadata": {},
   "source": [
    "Filter Design and Filtering\n"
   ]
  },
  {
   "cell_type": "code",
   "execution_count": null,
   "metadata": {},
   "outputs": [],
   "source": [
    "ftype='high'\n",
    "Wn=np.array([10])\n",
    "print(Wn)\n",
    "v_high_n = utils.filtering(v_TSA_n, fs_re, Wn, ftype)\n",
    "v_high_f = utils.filtering(v_TSA_f, fs_re, Wn, ftype)\n",
    "\n",
    "plt.figure(figsize=(8,6))\n",
    "plt.plot(v_high_f,'r')\n",
    "plt.plot(v_high_n,'b')\n",
    "plt.xlabel('Samples');plt.ylabel('v')\n",
    "plt.show()"
   ]
  },
  {
   "attachments": {},
   "cell_type": "markdown",
   "metadata": {},
   "source": [
    "### 필터링 신호의 Residual 보기"
   ]
  },
  {
   "cell_type": "code",
   "execution_count": null,
   "metadata": {},
   "outputs": [],
   "source": [
    "v_res = abs(hilbert(v_high_f)) - abs(hilbert(v_high_n))\n",
    "v_res = abs(hilbert(v_res))"
   ]
  },
  {
   "cell_type": "code",
   "execution_count": null,
   "metadata": {},
   "outputs": [],
   "source": [
    "plt.figure(figsize=(8,6))\n",
    "plt.plot(v_res,'r')\n",
    "plt.xlabel('Samples');plt.ylabel('residual')"
   ]
  }
 ],
 "metadata": {
  "colab": {
   "authorship_tag": "ABX9TyP7gYcFWMcatypkgBAGj2/S",
   "collapsed_sections": [],
   "name": "[Mathworks]m2py_e_resampling_orderanalysis_TSA.ipynb",
   "provenance": []
  },
  "kernelspec": {
   "display_name": "torch",
   "language": "python",
   "name": "python3"
  },
  "language_info": {
   "codemirror_mode": {
    "name": "ipython",
    "version": 3
   },
   "file_extension": ".py",
   "mimetype": "text/x-python",
   "name": "python",
   "nbconvert_exporter": "python",
   "pygments_lexer": "ipython3",
   "version": "3.9.21"
  }
 },
 "nbformat": 4,
 "nbformat_minor": 1
}
