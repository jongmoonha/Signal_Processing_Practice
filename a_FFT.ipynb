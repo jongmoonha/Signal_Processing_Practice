{
 "cells": [
  {
   "cell_type": "code",
   "execution_count": null,
   "metadata": {
    "id": "B79wMWL2xa1W"
   },
   "outputs": [],
   "source": [
    "import os, sys, subprocess\n",
    "\n",
    "REPO = \"https://github.com/jongmoonha/Signal_Processing_Practice.git\"\n",
    "DIR  = \"Signal_Processing_Practice\"\n",
    "\n",
    "try:\n",
    "    import google.colab  # Colab 전용 모듈\n",
    "    if not os.path.isdir(DIR):\n",
    "        subprocess.run([\"git\",\"clone\",REPO], check=True)\n",
    "    print('We are in Google Colab environment.')\n",
    "    os.chdir('/content/'+DIR)\n",
    "    print('Current working directory:', os.getcwd())\n",
    "\n",
    "except ImportError:\n",
    "    print('We are in a local environment, not Google Colab.')\n",
    "    pass"
   ]
  },
  {
   "cell_type": "markdown",
   "metadata": {
    "id": "3QTROBhVs7dv"
   },
   "source": [
    "# FFT Practice"
   ]
  },
  {
   "cell_type": "code",
   "execution_count": null,
   "metadata": {
    "ExecuteTime": {
     "end_time": "2022-03-28T13:00:46.693075Z",
     "start_time": "2022-03-28T13:00:46.686093Z"
    },
    "id": "GIsP5Z30fCLy"
   },
   "outputs": [],
   "source": [
    "import numpy as np\n",
    "import matplotlib.pyplot as plt\n",
    "import pandas as pd\n",
    "import utils\n",
    "plt.rc('font', size=20)"
   ]
  },
  {
   "cell_type": "markdown",
   "metadata": {
    "id": "J2jo39U5xaPz"
   },
   "source": [
    "# 데이터 로드"
   ]
  },
  {
   "cell_type": "markdown",
   "metadata": {
    "id": "HvObOQr1xaP0"
   },
   "source": [
    "## 신호 로드하고 그려보기"
   ]
  },
  {
   "cell_type": "markdown",
   "metadata": {
    "id": "M2dZQioOxaP0"
   },
   "source": [
    "### 신호 로드하기"
   ]
  },
  {
   "cell_type": "markdown",
   "metadata": {
    "id": "xRTqQg1rxaP1"
   },
   "source": [
    "### 신호 그리기"
   ]
  },
  {
   "cell_type": "code",
   "execution_count": null,
   "metadata": {
    "ExecuteTime": {
     "end_time": "2022-03-28T13:00:46.752915Z",
     "start_time": "2022-03-28T13:00:46.739950Z"
    },
    "id": "Sxv8t1qwtP6N"
   },
   "outputs": [],
   "source": [
    "fs = 1000\n",
    "\n",
    "data = np.array(pd.read_csv('./data/data_sample_fft.csv'))\n",
    "print(np.shape(data))\n",
    "print(data)\n",
    "\n",
    "t = data[:,1]\n",
    "v = data[:,2]"
   ]
  },
  {
   "cell_type": "code",
   "execution_count": null,
   "metadata": {
    "ExecuteTime": {
     "end_time": "2022-03-28T13:00:46.932433Z",
     "start_time": "2022-03-28T13:00:46.755906Z"
    },
    "id": "X_FxCDqvxaP1"
   },
   "outputs": [],
   "source": [
    "### 신호 그리기\n",
    "plt.figure()\n",
    "plt.plot(t,v)\n",
    "plt.xlabel('t(sec)')\n",
    "plt.show()"
   ]
  },
  {
   "cell_type": "code",
   "execution_count": null,
   "metadata": {
    "ExecuteTime": {
     "end_time": "2022-03-28T13:00:47.111952Z",
     "start_time": "2022-03-28T13:00:46.934428Z"
    },
    "id": "zCiO4IUrtbzs"
   },
   "outputs": [],
   "source": [
    "plt.figure()\n",
    "plt.plot(t,v)\n",
    "plt.xlabel('t(sec)')\n",
    "plt.xlim([0, 0.2])\n",
    "plt.show()"
   ]
  },
  {
   "cell_type": "markdown",
   "metadata": {
    "id": "4slIw6l7xaP2"
   },
   "source": [
    "## 주파수 분석해보기"
   ]
  },
  {
   "cell_type": "markdown",
   "metadata": {},
   "source": [
    "1.\n",
    "\n",
    "Frequency analysis of v (sampling rate of fs) (one-sided, scale y axis properly)\n",
    "\n",
    "Plot its results using subplot: upper: time-domain signal / lower: frequency-domain signal"
   ]
  },
  {
   "cell_type": "markdown",
   "metadata": {},
   "source": [
    "2.\n",
    "\n",
    "FFT analysis of v (sampling rate of fs).\n",
    "\n",
    "We have the fft function in utils.fft_simple(v, fs)\n",
    "\n",
    "Plot its results using subplot: upper: time-domain signal / lower: frequency-domain signal"
   ]
  },
  {
   "cell_type": "code",
   "execution_count": null,
   "metadata": {
    "ExecuteTime": {
     "end_time": "2022-03-28T13:00:47.126914Z",
     "start_time": "2022-03-28T13:00:47.113947Z"
    },
    "id": "EicohmiEPBXH"
   },
   "outputs": [],
   "source": [
    "f, A = utils.fft_simple(v,fs)"
   ]
  },
  {
   "cell_type": "code",
   "execution_count": null,
   "metadata": {
    "ExecuteTime": {
     "end_time": "2022-03-28T13:00:47.560751Z",
     "start_time": "2022-03-28T13:00:47.131900Z"
    },
    "id": "fMJJHtWvPj1O"
   },
   "outputs": [],
   "source": [
    "plt.figure()\n",
    "plt.stem(f,A)\n",
    "plt.xlabel('f')\n",
    "plt.ylabel('|X(f)|')\n",
    "\n",
    "plt.figure()\n",
    "plt.stem(f,A)\n",
    "plt.xlabel('f')\n",
    "plt.ylabel('|X(f)|')\n",
    "plt.xlim([50, 70])"
   ]
  }
 ],
 "metadata": {
  "colab": {
   "provenance": []
  },
  "kernelspec": {
   "display_name": "base",
   "language": "python",
   "name": "python3"
  },
  "language_info": {
   "codemirror_mode": {
    "name": "ipython",
    "version": 3
   },
   "file_extension": ".py",
   "mimetype": "text/x-python",
   "name": "python",
   "nbconvert_exporter": "python",
   "pygments_lexer": "ipython3",
   "version": "3.9.12"
  },
  "toc": {
   "base_numbering": 1,
   "nav_menu": {},
   "number_sections": true,
   "sideBar": true,
   "skip_h1_title": false,
   "title_cell": "Table of Contents",
   "title_sidebar": "Contents",
   "toc_cell": false,
   "toc_position": {},
   "toc_section_display": true,
   "toc_window_display": false
  },
  "varInspector": {
   "cols": {
    "lenName": 16,
    "lenType": 16,
    "lenVar": 40
   },
   "kernels_config": {
    "python": {
     "delete_cmd_postfix": "",
     "delete_cmd_prefix": "del ",
     "library": "var_list.py",
     "varRefreshCmd": "print(var_dic_list())"
    },
    "r": {
     "delete_cmd_postfix": ") ",
     "delete_cmd_prefix": "rm(",
     "library": "var_list.r",
     "varRefreshCmd": "cat(var_dic_list()) "
    }
   },
   "types_to_exclude": [
    "module",
    "function",
    "builtin_function_or_method",
    "instance",
    "_Feature"
   ],
   "window_display": false
  }
 },
 "nbformat": 4,
 "nbformat_minor": 0
}
